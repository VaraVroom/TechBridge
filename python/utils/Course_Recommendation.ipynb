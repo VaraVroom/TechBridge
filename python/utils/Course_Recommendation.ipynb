{
 "cells": [
  {
   "cell_type": "code",
   "execution_count": 2,
   "metadata": {},
   "outputs": [
    {
     "name": "stdout",
     "output_type": "stream",
     "text": [
      "Dependencies Imported\n"
     ]
    }
   ],
   "source": [
    "import numpy as np\n",
    "import pandas as pd\n",
    "import matplotlib.pyplot as plt\n",
    "import seaborn as sns\n",
    "print('Dependencies Imported')"
   ]
  },
  {
   "cell_type": "code",
   "execution_count": 3,
   "metadata": {},
   "outputs": [
    {
     "data": {
      "text/html": [
       "<div>\n",
       "<style scoped>\n",
       "    .dataframe tbody tr th:only-of-type {\n",
       "        vertical-align: middle;\n",
       "    }\n",
       "\n",
       "    .dataframe tbody tr th {\n",
       "        vertical-align: top;\n",
       "    }\n",
       "\n",
       "    .dataframe thead th {\n",
       "        text-align: right;\n",
       "    }\n",
       "</style>\n",
       "<table border=\"1\" class=\"dataframe\">\n",
       "  <thead>\n",
       "    <tr style=\"text-align: right;\">\n",
       "      <th></th>\n",
       "      <th>Unnamed: 0</th>\n",
       "      <th>Title</th>\n",
       "      <th>URL</th>\n",
       "      <th>Short Intro</th>\n",
       "      <th>Category</th>\n",
       "      <th>Sub-Category</th>\n",
       "      <th>Course Type</th>\n",
       "      <th>Language</th>\n",
       "      <th>Subtitle Languages</th>\n",
       "      <th>Skills</th>\n",
       "      <th>...</th>\n",
       "      <th>Course Short Intro</th>\n",
       "      <th>Weekly study</th>\n",
       "      <th>Premium course</th>\n",
       "      <th>What's include</th>\n",
       "      <th>Rank</th>\n",
       "      <th>Created by</th>\n",
       "      <th>Program</th>\n",
       "      <th>Number of ratings</th>\n",
       "      <th>Price</th>\n",
       "      <th>COURSE CATEGORIES</th>\n",
       "    </tr>\n",
       "  </thead>\n",
       "  <tbody>\n",
       "    <tr>\n",
       "      <th>0</th>\n",
       "      <td>0</td>\n",
       "      <td>Machine Learning Specialization</td>\n",
       "      <td>https://www.coursera.org/specializations/machi...</td>\n",
       "      <td>#BreakIntoAI with Machine Learning Specializat...</td>\n",
       "      <td>Data Science</td>\n",
       "      <td>Machine Learning</td>\n",
       "      <td>Specialization</td>\n",
       "      <td>English</td>\n",
       "      <td>Subtitles: English</td>\n",
       "      <td>Decision Trees, Artificial Neural Network, Log...</td>\n",
       "      <td>...</td>\n",
       "      <td>NaN</td>\n",
       "      <td>NaN</td>\n",
       "      <td>NaN</td>\n",
       "      <td>NaN</td>\n",
       "      <td>NaN</td>\n",
       "      <td>NaN</td>\n",
       "      <td>NaN</td>\n",
       "      <td>NaN</td>\n",
       "      <td>NaN</td>\n",
       "      <td>NaN</td>\n",
       "    </tr>\n",
       "    <tr>\n",
       "      <th>1</th>\n",
       "      <td>1</td>\n",
       "      <td>Introduction to Data Science Specialization</td>\n",
       "      <td>https://www.coursera.org/specializations/intro...</td>\n",
       "      <td>Launch your career in data science. Gain found...</td>\n",
       "      <td>Data Science</td>\n",
       "      <td>Data Analysis</td>\n",
       "      <td>Specialization</td>\n",
       "      <td>English</td>\n",
       "      <td>Subtitles: English, Arabic, French, Portuguese...</td>\n",
       "      <td>Data Science, Relational Database Management S...</td>\n",
       "      <td>...</td>\n",
       "      <td>NaN</td>\n",
       "      <td>NaN</td>\n",
       "      <td>NaN</td>\n",
       "      <td>NaN</td>\n",
       "      <td>NaN</td>\n",
       "      <td>NaN</td>\n",
       "      <td>NaN</td>\n",
       "      <td>NaN</td>\n",
       "      <td>NaN</td>\n",
       "      <td>NaN</td>\n",
       "    </tr>\n",
       "    <tr>\n",
       "      <th>2</th>\n",
       "      <td>2</td>\n",
       "      <td>Data Science Fundamentals with Python and SQL ...</td>\n",
       "      <td>https://www.coursera.org/specializations/data-...</td>\n",
       "      <td>Build the Foundation for your Data Science car...</td>\n",
       "      <td>Data Science</td>\n",
       "      <td>Data Analysis</td>\n",
       "      <td>Specialization</td>\n",
       "      <td>English</td>\n",
       "      <td>Subtitles: English, Arabic, French, Portuguese...</td>\n",
       "      <td>Data Science, Github, Python Programming, Jupy...</td>\n",
       "      <td>...</td>\n",
       "      <td>NaN</td>\n",
       "      <td>NaN</td>\n",
       "      <td>NaN</td>\n",
       "      <td>NaN</td>\n",
       "      <td>NaN</td>\n",
       "      <td>NaN</td>\n",
       "      <td>NaN</td>\n",
       "      <td>NaN</td>\n",
       "      <td>NaN</td>\n",
       "      <td>NaN</td>\n",
       "    </tr>\n",
       "    <tr>\n",
       "      <th>3</th>\n",
       "      <td>3</td>\n",
       "      <td>Key Technologies for Business Specialization</td>\n",
       "      <td>https://www.coursera.org/specializations/key-t...</td>\n",
       "      <td>Get Ahead with Key Business Technologies. Gain...</td>\n",
       "      <td>Business</td>\n",
       "      <td>Business Essentials</td>\n",
       "      <td>Specialization</td>\n",
       "      <td>English</td>\n",
       "      <td>Subtitles: English, Arabic, French, Portuguese...</td>\n",
       "      <td>Data Science, Artificial Intelligence (AI), Bu...</td>\n",
       "      <td>...</td>\n",
       "      <td>NaN</td>\n",
       "      <td>NaN</td>\n",
       "      <td>NaN</td>\n",
       "      <td>NaN</td>\n",
       "      <td>NaN</td>\n",
       "      <td>NaN</td>\n",
       "      <td>NaN</td>\n",
       "      <td>NaN</td>\n",
       "      <td>NaN</td>\n",
       "      <td>NaN</td>\n",
       "    </tr>\n",
       "    <tr>\n",
       "      <th>4</th>\n",
       "      <td>4</td>\n",
       "      <td>Deep Learning Specialization</td>\n",
       "      <td>https://www.coursera.org/specializations/deep-...</td>\n",
       "      <td>Become a Machine Learning expert. Master the f...</td>\n",
       "      <td>Data Science</td>\n",
       "      <td>Machine Learning</td>\n",
       "      <td>Specialization</td>\n",
       "      <td>English</td>\n",
       "      <td>Subtitles: English, Chinese (Traditional), Ara...</td>\n",
       "      <td>Artificial Neural Network, Convolutional Neura...</td>\n",
       "      <td>...</td>\n",
       "      <td>NaN</td>\n",
       "      <td>NaN</td>\n",
       "      <td>NaN</td>\n",
       "      <td>NaN</td>\n",
       "      <td>NaN</td>\n",
       "      <td>NaN</td>\n",
       "      <td>NaN</td>\n",
       "      <td>NaN</td>\n",
       "      <td>NaN</td>\n",
       "      <td>NaN</td>\n",
       "    </tr>\n",
       "  </tbody>\n",
       "</table>\n",
       "<p>5 rows × 45 columns</p>\n",
       "</div>"
      ],
      "text/plain": [
       "   Unnamed: 0                                              Title  \\\n",
       "0           0                    Machine Learning Specialization   \n",
       "1           1        Introduction to Data Science Specialization   \n",
       "2           2  Data Science Fundamentals with Python and SQL ...   \n",
       "3           3       Key Technologies for Business Specialization   \n",
       "4           4                       Deep Learning Specialization   \n",
       "\n",
       "                                                 URL  \\\n",
       "0  https://www.coursera.org/specializations/machi...   \n",
       "1  https://www.coursera.org/specializations/intro...   \n",
       "2  https://www.coursera.org/specializations/data-...   \n",
       "3  https://www.coursera.org/specializations/key-t...   \n",
       "4  https://www.coursera.org/specializations/deep-...   \n",
       "\n",
       "                                         Short Intro      Category  \\\n",
       "0  #BreakIntoAI with Machine Learning Specializat...  Data Science   \n",
       "1  Launch your career in data science. Gain found...  Data Science   \n",
       "2  Build the Foundation for your Data Science car...  Data Science   \n",
       "3  Get Ahead with Key Business Technologies. Gain...      Business   \n",
       "4  Become a Machine Learning expert. Master the f...  Data Science   \n",
       "\n",
       "          Sub-Category     Course Type Language  \\\n",
       "0     Machine Learning  Specialization  English   \n",
       "1        Data Analysis  Specialization  English   \n",
       "2        Data Analysis  Specialization  English   \n",
       "3  Business Essentials  Specialization  English   \n",
       "4     Machine Learning  Specialization  English   \n",
       "\n",
       "                                  Subtitle Languages  \\\n",
       "0                                 Subtitles: English   \n",
       "1  Subtitles: English, Arabic, French, Portuguese...   \n",
       "2  Subtitles: English, Arabic, French, Portuguese...   \n",
       "3  Subtitles: English, Arabic, French, Portuguese...   \n",
       "4  Subtitles: English, Chinese (Traditional), Ara...   \n",
       "\n",
       "                                              Skills  ... Course Short Intro  \\\n",
       "0  Decision Trees, Artificial Neural Network, Log...  ...                NaN   \n",
       "1  Data Science, Relational Database Management S...  ...                NaN   \n",
       "2  Data Science, Github, Python Programming, Jupy...  ...                NaN   \n",
       "3  Data Science, Artificial Intelligence (AI), Bu...  ...                NaN   \n",
       "4  Artificial Neural Network, Convolutional Neura...  ...                NaN   \n",
       "\n",
       "  Weekly study Premium course What's include Rank Created by Program  \\\n",
       "0          NaN            NaN            NaN  NaN        NaN     NaN   \n",
       "1          NaN            NaN            NaN  NaN        NaN     NaN   \n",
       "2          NaN            NaN            NaN  NaN        NaN     NaN   \n",
       "3          NaN            NaN            NaN  NaN        NaN     NaN   \n",
       "4          NaN            NaN            NaN  NaN        NaN     NaN   \n",
       "\n",
       "  Number of ratings Price  COURSE CATEGORIES  \n",
       "0               NaN   NaN                NaN  \n",
       "1               NaN   NaN                NaN  \n",
       "2               NaN   NaN                NaN  \n",
       "3               NaN   NaN                NaN  \n",
       "4               NaN   NaN                NaN  \n",
       "\n",
       "[5 rows x 45 columns]"
      ]
     },
     "execution_count": 3,
     "metadata": {},
     "output_type": "execute_result"
    }
   ],
   "source": [
    "data = pd.read_csv(\"Online_Courses.csv\")\n",
    "data.head()"
   ]
  },
  {
   "cell_type": "code",
   "execution_count": 4,
   "metadata": {},
   "outputs": [
    {
     "data": {
      "text/plain": [
       "0        \n",
       "1        \n",
       "2        \n",
       "3        \n",
       "4        \n",
       "       ..\n",
       "8087     \n",
       "8088     \n",
       "8089     \n",
       "8090     \n",
       "8091     \n",
       "Name: Level, Length: 8092, dtype: object"
      ]
     },
     "execution_count": 4,
     "metadata": {},
     "output_type": "execute_result"
    }
   ],
   "source": [
    "data['Level'].fillna('')"
   ]
  },
  {
   "cell_type": "code",
   "execution_count": 5,
   "metadata": {},
   "outputs": [
    {
     "data": {
      "text/plain": [
       "Index(['Unnamed: 0', 'Title', 'URL', 'Short Intro', 'Category', 'Sub-Category',\n",
       "       'Course Type', 'Language', 'Subtitle Languages', 'Skills',\n",
       "       'Instructors', 'Rating', 'Number of viewers', 'Duration', 'Site',\n",
       "       'Program Type', 'Courses', 'Level', 'Number of Reviews',\n",
       "       'Unique Projects', 'Prequisites', 'What you learn', 'Related Programs',\n",
       "       'Monthly access', '6-Month access', '4-Month access', '3-Month access',\n",
       "       '5-Month access', '2-Month access', 'School', 'Topics related to CRM',\n",
       "       'ExpertTracks', 'FAQs', 'Course Title', 'Course URL',\n",
       "       'Course Short Intro', 'Weekly study', 'Premium course',\n",
       "       'What's include', 'Rank', 'Created by', 'Program', 'Number of ratings',\n",
       "       'Price', 'COURSE CATEGORIES'],\n",
       "      dtype='object')"
      ]
     },
     "execution_count": 5,
     "metadata": {},
     "output_type": "execute_result"
    }
   ],
   "source": [
    "data.columns"
   ]
  },
  {
   "cell_type": "code",
   "execution_count": 6,
   "metadata": {},
   "outputs": [],
   "source": [
    "data = data[['Title', 'URL', 'Category', 'Sub-Category', 'Course Type', 'Skills', 'Site', 'Duration', 'Instructors']]"
   ]
  },
  {
   "cell_type": "code",
   "execution_count": 7,
   "metadata": {},
   "outputs": [
    {
     "data": {
      "text/plain": [
       "(8092, 9)"
      ]
     },
     "execution_count": 7,
     "metadata": {},
     "output_type": "execute_result"
    }
   ],
   "source": [
    "data.shape"
   ]
  },
  {
   "cell_type": "code",
   "execution_count": 8,
   "metadata": {},
   "outputs": [
    {
     "data": {
      "text/plain": [
       "Course Type\n",
       "Course                      2307\n",
       "Specialization               414\n",
       "Professional Certificate      81\n",
       "Project                       17\n",
       "Name: count, dtype: int64"
      ]
     },
     "execution_count": 8,
     "metadata": {},
     "output_type": "execute_result"
    }
   ],
   "source": [
    "data['Course Type'].value_counts()"
   ]
  },
  {
   "cell_type": "code",
   "execution_count": 9,
   "metadata": {},
   "outputs": [
    {
     "data": {
      "text/plain": [
       "(8092, 9)"
      ]
     },
     "execution_count": 9,
     "metadata": {},
     "output_type": "execute_result"
    }
   ],
   "source": [
    "data.shape"
   ]
  },
  {
   "cell_type": "code",
   "execution_count": 10,
   "metadata": {},
   "outputs": [],
   "source": [
    "data.drop(data[data['Course Type'] == 'Project'].index,inplace=True)"
   ]
  },
  {
   "cell_type": "code",
   "execution_count": 11,
   "metadata": {},
   "outputs": [
    {
     "data": {
      "text/plain": [
       "(8075, 9)"
      ]
     },
     "execution_count": 11,
     "metadata": {},
     "output_type": "execute_result"
    }
   ],
   "source": [
    "data.shape"
   ]
  },
  {
   "cell_type": "code",
   "execution_count": 12,
   "metadata": {},
   "outputs": [],
   "source": [
    "categories = ['Data Science', 'Business', 'Computer Science', 'Information Technology', 'Physical Science and Engineering']\n",
    "data = data[data['Category'].isin(categories)]"
   ]
  },
  {
   "cell_type": "code",
   "execution_count": 13,
   "metadata": {},
   "outputs": [
    {
     "data": {
      "text/plain": [
       "(2152, 9)"
      ]
     },
     "execution_count": 13,
     "metadata": {},
     "output_type": "execute_result"
    }
   ],
   "source": [
    "data.shape"
   ]
  },
  {
   "cell_type": "code",
   "execution_count": 14,
   "metadata": {},
   "outputs": [
    {
     "data": {
      "text/html": [
       "<div>\n",
       "<style scoped>\n",
       "    .dataframe tbody tr th:only-of-type {\n",
       "        vertical-align: middle;\n",
       "    }\n",
       "\n",
       "    .dataframe tbody tr th {\n",
       "        vertical-align: top;\n",
       "    }\n",
       "\n",
       "    .dataframe thead th {\n",
       "        text-align: right;\n",
       "    }\n",
       "</style>\n",
       "<table border=\"1\" class=\"dataframe\">\n",
       "  <thead>\n",
       "    <tr style=\"text-align: right;\">\n",
       "      <th></th>\n",
       "      <th>Title</th>\n",
       "      <th>URL</th>\n",
       "      <th>Category</th>\n",
       "      <th>Sub-Category</th>\n",
       "      <th>Course Type</th>\n",
       "      <th>Skills</th>\n",
       "      <th>Site</th>\n",
       "      <th>Duration</th>\n",
       "      <th>Instructors</th>\n",
       "    </tr>\n",
       "  </thead>\n",
       "  <tbody>\n",
       "    <tr>\n",
       "      <th>0</th>\n",
       "      <td>Machine Learning Specialization</td>\n",
       "      <td>https://www.coursera.org/specializations/machi...</td>\n",
       "      <td>Data Science</td>\n",
       "      <td>Machine Learning</td>\n",
       "      <td>Specialization</td>\n",
       "      <td>Decision Trees, Artificial Neural Network, Log...</td>\n",
       "      <td>Coursera</td>\n",
       "      <td>Approximately 3 months to complete</td>\n",
       "      <td>Andrew Ng ,Eddy Shyu ,Aarti Bagul ,Geoff Ladwig ,</td>\n",
       "    </tr>\n",
       "    <tr>\n",
       "      <th>1</th>\n",
       "      <td>Introduction to Data Science Specialization</td>\n",
       "      <td>https://www.coursera.org/specializations/intro...</td>\n",
       "      <td>Data Science</td>\n",
       "      <td>Data Analysis</td>\n",
       "      <td>Specialization</td>\n",
       "      <td>Data Science, Relational Database Management S...</td>\n",
       "      <td>Coursera</td>\n",
       "      <td>Approximately 5 months to complete</td>\n",
       "      <td>Rav Ahuja ,Alex Aklson ,Aije Egwaikhide ,Svetl...</td>\n",
       "    </tr>\n",
       "    <tr>\n",
       "      <th>2</th>\n",
       "      <td>Data Science Fundamentals with Python and SQL ...</td>\n",
       "      <td>https://www.coursera.org/specializations/data-...</td>\n",
       "      <td>Data Science</td>\n",
       "      <td>Data Analysis</td>\n",
       "      <td>Specialization</td>\n",
       "      <td>Data Science, Github, Python Programming, Jupy...</td>\n",
       "      <td>Coursera</td>\n",
       "      <td>Approximately 7 months to complete</td>\n",
       "      <td>Aije Egwaikhide ,Svetlana Levitan ,Romeo Kienz...</td>\n",
       "    </tr>\n",
       "    <tr>\n",
       "      <th>3</th>\n",
       "      <td>Key Technologies for Business Specialization</td>\n",
       "      <td>https://www.coursera.org/specializations/key-t...</td>\n",
       "      <td>Business</td>\n",
       "      <td>Business Essentials</td>\n",
       "      <td>Specialization</td>\n",
       "      <td>Data Science, Artificial Intelligence (AI), Bu...</td>\n",
       "      <td>Coursera</td>\n",
       "      <td>Approximately 3 months to complete</td>\n",
       "      <td>Rav Ahuja ,Alex Aklson ,</td>\n",
       "    </tr>\n",
       "    <tr>\n",
       "      <th>4</th>\n",
       "      <td>Deep Learning Specialization</td>\n",
       "      <td>https://www.coursera.org/specializations/deep-...</td>\n",
       "      <td>Data Science</td>\n",
       "      <td>Machine Learning</td>\n",
       "      <td>Specialization</td>\n",
       "      <td>Artificial Neural Network, Convolutional Neura...</td>\n",
       "      <td>Coursera</td>\n",
       "      <td>Approximately 5 months to complete</td>\n",
       "      <td>Andrew Ng ,Kian Katanforoosh ,Younes Bensouda ...</td>\n",
       "    </tr>\n",
       "  </tbody>\n",
       "</table>\n",
       "</div>"
      ],
      "text/plain": [
       "                                               Title  \\\n",
       "0                    Machine Learning Specialization   \n",
       "1        Introduction to Data Science Specialization   \n",
       "2  Data Science Fundamentals with Python and SQL ...   \n",
       "3       Key Technologies for Business Specialization   \n",
       "4                       Deep Learning Specialization   \n",
       "\n",
       "                                                 URL      Category  \\\n",
       "0  https://www.coursera.org/specializations/machi...  Data Science   \n",
       "1  https://www.coursera.org/specializations/intro...  Data Science   \n",
       "2  https://www.coursera.org/specializations/data-...  Data Science   \n",
       "3  https://www.coursera.org/specializations/key-t...      Business   \n",
       "4  https://www.coursera.org/specializations/deep-...  Data Science   \n",
       "\n",
       "          Sub-Category     Course Type  \\\n",
       "0     Machine Learning  Specialization   \n",
       "1        Data Analysis  Specialization   \n",
       "2        Data Analysis  Specialization   \n",
       "3  Business Essentials  Specialization   \n",
       "4     Machine Learning  Specialization   \n",
       "\n",
       "                                              Skills      Site  \\\n",
       "0  Decision Trees, Artificial Neural Network, Log...  Coursera   \n",
       "1  Data Science, Relational Database Management S...  Coursera   \n",
       "2  Data Science, Github, Python Programming, Jupy...  Coursera   \n",
       "3  Data Science, Artificial Intelligence (AI), Bu...  Coursera   \n",
       "4  Artificial Neural Network, Convolutional Neura...  Coursera   \n",
       "\n",
       "                             Duration  \\\n",
       "0  Approximately 3 months to complete   \n",
       "1  Approximately 5 months to complete   \n",
       "2  Approximately 7 months to complete   \n",
       "3  Approximately 3 months to complete   \n",
       "4  Approximately 5 months to complete   \n",
       "\n",
       "                                         Instructors  \n",
       "0  Andrew Ng ,Eddy Shyu ,Aarti Bagul ,Geoff Ladwig ,  \n",
       "1  Rav Ahuja ,Alex Aklson ,Aije Egwaikhide ,Svetl...  \n",
       "2  Aije Egwaikhide ,Svetlana Levitan ,Romeo Kienz...  \n",
       "3                           Rav Ahuja ,Alex Aklson ,  \n",
       "4  Andrew Ng ,Kian Katanforoosh ,Younes Bensouda ...  "
      ]
     },
     "execution_count": 14,
     "metadata": {},
     "output_type": "execute_result"
    }
   ],
   "source": [
    "data.head()"
   ]
  },
  {
   "cell_type": "code",
   "execution_count": 15,
   "metadata": {},
   "outputs": [],
   "source": [
    "from sklearn.feature_extraction.text import TfidfVectorizer\n",
    "from sklearn.metrics.pairwise import cosine_similarity"
   ]
  },
  {
   "cell_type": "code",
   "execution_count": 16,
   "metadata": {},
   "outputs": [
    {
     "data": {
      "text/plain": [
       "(2152, 9)"
      ]
     },
     "execution_count": 16,
     "metadata": {},
     "output_type": "execute_result"
    }
   ],
   "source": [
    "data.shape"
   ]
  },
  {
   "cell_type": "code",
   "execution_count": 17,
   "metadata": {},
   "outputs": [],
   "source": [
    "data['tags'] = data['Title'] + ' ' + data['Category'] + ' ' + data['Skills']"
   ]
  },
  {
   "cell_type": "code",
   "execution_count": 18,
   "metadata": {},
   "outputs": [
    {
     "data": {
      "text/plain": [
       "(2152, 10)"
      ]
     },
     "execution_count": 18,
     "metadata": {},
     "output_type": "execute_result"
    }
   ],
   "source": [
    "data.shape"
   ]
  },
  {
   "cell_type": "code",
   "execution_count": 19,
   "metadata": {},
   "outputs": [],
   "source": [
    "#data = data.dropna(subset=['tags'])\n",
    "data['tags'] = data['tags'].fillna('')"
   ]
  },
  {
   "cell_type": "code",
   "execution_count": 20,
   "metadata": {},
   "outputs": [
    {
     "data": {
      "text/plain": [
       "(2152, 10)"
      ]
     },
     "execution_count": 20,
     "metadata": {},
     "output_type": "execute_result"
    }
   ],
   "source": [
    "data.shape"
   ]
  },
  {
   "cell_type": "code",
   "execution_count": 21,
   "metadata": {},
   "outputs": [],
   "source": [
    "tfidf = TfidfVectorizer(stop_words='english')\n",
    "tfidf_matrix = tfidf.fit_transform(data['tags'])"
   ]
  },
  {
   "cell_type": "code",
   "execution_count": 22,
   "metadata": {},
   "outputs": [],
   "source": [
    "# Recommendation function\n",
    "def recommend_courses(keyword, num_recommendations=5):\n",
    "    keyword_vector = tfidf.transform([keyword])\n",
    "    \n",
    "    similarity_scores = cosine_similarity(keyword_vector, tfidf_matrix)\n",
    "\n",
    "    similar_indices = similarity_scores.argsort()[0][-num_recommendations:][::-1]\n",
    "    recommendations = data.iloc[similar_indices][['Title', 'URL', 'Duration', 'Site']]\n",
    "    \n",
    "    return recommendations if not recommendations.empty else \"No courses found for the keyword.\""
   ]
  },
  {
   "cell_type": "code",
   "execution_count": 23,
   "metadata": {},
   "outputs": [],
   "source": [
    "keyword = 'Python'\n",
    "recommend_resource = recommend_courses(keyword)"
   ]
  },
  {
   "cell_type": "code",
   "execution_count": 24,
   "metadata": {},
   "outputs": [
    {
     "name": "stdout",
     "output_type": "stream",
     "text": [
      "                                   Title  \\\n",
      "787   Introduction to Python Programming   \n",
      "1211  Introduction to Python Programming   \n",
      "1255              Python Data Structures   \n",
      "764               Python Data Structures   \n",
      "2783       Python Programming Essentials   \n",
      "\n",
      "                                                    URL  \\\n",
      "787   https://www.coursera.org/learn/python-programm...   \n",
      "1211  https://www.coursera.org/learn/python-programm...   \n",
      "1255  https://www.coursera.org/learn/python-data?spe...   \n",
      "764          https://www.coursera.org/learn/python-data   \n",
      "2783  https://www.coursera.org/learn/python-programm...   \n",
      "\n",
      "                          Duration      Site  \n",
      "787   Approx. 27 hours to complete  Coursera  \n",
      "1211  Approx. 27 hours to complete  Coursera  \n",
      "1255  Approx. 19 hours to complete  Coursera  \n",
      "764   Approx. 19 hours to complete  Coursera  \n",
      "2783   Approx. 9 hours to complete  Coursera  \n"
     ]
    }
   ],
   "source": [
    "print(recommend_resource)"
   ]
  },
  {
   "cell_type": "code",
   "execution_count": 25,
   "metadata": {},
   "outputs": [
    {
     "name": "stdout",
     "output_type": "stream",
     "text": [
      "                             Title                                                                                               URL                     Duration     Site\n",
      "Introduction to Python Programming                                           https://www.coursera.org/learn/python-programming-intro Approx. 27 hours to complete Coursera\n",
      "Introduction to Python Programming    https://www.coursera.org/learn/python-programming-intro?specialization=programming-python-java Approx. 27 hours to complete Coursera\n",
      "            Python Data Structures                                  https://www.coursera.org/learn/python-data?specialization=python Approx. 19 hours to complete Coursera\n",
      "            Python Data Structures                                                        https://www.coursera.org/learn/python-data Approx. 19 hours to complete Coursera\n",
      "     Python Programming Essentials https://www.coursera.org/learn/python-programming?specialization=introduction-scripting-in-python  Approx. 9 hours to complete Coursera\n"
     ]
    }
   ],
   "source": [
    "if isinstance(recommend_resource, pd.DataFrame):\n",
    "    print(recommend_resource.to_string(index=False))\n",
    "else:\n",
    "    print(recommend_resource)"
   ]
  },
  {
   "cell_type": "code",
   "execution_count": null,
   "metadata": {},
   "outputs": [],
   "source": []
  },
  {
   "cell_type": "code",
   "execution_count": null,
   "metadata": {},
   "outputs": [],
   "source": []
  }
 ],
 "metadata": {
  "kernelspec": {
   "display_name": "Python 3",
   "language": "python",
   "name": "python3"
  },
  "language_info": {
   "codemirror_mode": {
    "name": "ipython",
    "version": 3
   },
   "file_extension": ".py",
   "mimetype": "text/x-python",
   "name": "python",
   "nbconvert_exporter": "python",
   "pygments_lexer": "ipython3",
   "version": "3.12.3"
  }
 },
 "nbformat": 4,
 "nbformat_minor": 2
}
