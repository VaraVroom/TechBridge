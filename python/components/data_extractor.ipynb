{
 "cells": [
  {
   "cell_type": "code",
   "execution_count": 8,
   "id": "9ef26da5",
   "metadata": {},
   "outputs": [],
   "source": [
    "import pandas as pd\n",
    "from tqdm import tqdm\n",
    "from time import sleep\n",
    "from selenium import webdriver\n",
    "from selenium.webdriver.common.by import By\n",
    "from selenium.webdriver.chrome.options import Options\n",
    "from selenium.webdriver.support.ui import WebDriverWait\n",
    "from selenium.webdriver.support import expected_conditions as EC\n",
    "from selenium.common.exceptions import TimeoutException\n",
    "from bs4 import BeautifulSoup\n",
    "from selenium.common.exceptions import ElementClickInterceptedException\n",
    "from selenium.common.exceptions import NoSuchElementException\n",
    "import json\n",
    "import urllib\n",
    "import time"
   ]
  },
  {
   "cell_type": "code",
   "execution_count": 10,
   "id": "45c25654",
   "metadata": {},
   "outputs": [],
   "source": [
    "options = Options()\n",
    "options.headless = True  \n",
    "driver = webdriver.Chrome(options=options)"
   ]
  },
  {
   "cell_type": "code",
   "execution_count": 11,
   "id": "9a4ae58e",
   "metadata": {},
   "outputs": [
    {
     "ename": "InvalidSessionIdException",
     "evalue": "Message: invalid session id: session deleted as the browser has closed the connection\nfrom disconnected: not connected to DevTools\n  (Session info: chrome=135.0.7049.96)\nStacktrace:\n\tGetHandleVerifier [0x00007FF7B5445355+78597]\n\tGetHandleVerifier [0x00007FF7B54453B0+78688]\n\t(No symbol) [0x00007FF7B51F91AA]\n\t(No symbol) [0x00007FF7B51E4EF5]\n\t(No symbol) [0x00007FF7B5209F04]\n\t(No symbol) [0x00007FF7B527ED0F]\n\t(No symbol) [0x00007FF7B529EBB2]\n\t(No symbol) [0x00007FF7B5276EC3]\n\t(No symbol) [0x00007FF7B52403F8]\n\t(No symbol) [0x00007FF7B5241163]\n\tGetHandleVerifier [0x00007FF7B56EEF0D+2870973]\n\tGetHandleVerifier [0x00007FF7B56E96B8+2848360]\n\tGetHandleVerifier [0x00007FF7B5706993+2967875]\n\tGetHandleVerifier [0x00007FF7B546019A+188746]\n\tGetHandleVerifier [0x00007FF7B546847F+222255]\n\tGetHandleVerifier [0x00007FF7B544D2D4+111236]\n\tGetHandleVerifier [0x00007FF7B544D482+111666]\n\tGetHandleVerifier [0x00007FF7B54335A9+5465]\n\tBaseThreadInitThunk [0x00007FFE6605259D+29]\n\tRtlUserThreadStart [0x00007FFE6644AF38+40]\n",
     "output_type": "error",
     "traceback": [
      "\u001b[1;31m---------------------------------------------------------------------------\u001b[0m",
      "\u001b[1;31mInvalidSessionIdException\u001b[0m                 Traceback (most recent call last)",
      "Cell \u001b[1;32mIn[11], line 2\u001b[0m\n\u001b[0;32m      1\u001b[0m driver\u001b[38;5;241m.\u001b[39mwait \u001b[38;5;241m=\u001b[39m WebDriverWait(driver, \u001b[38;5;241m5\u001b[39m)\n\u001b[1;32m----> 2\u001b[0m \u001b[43mdriver\u001b[49m\u001b[38;5;241;43m.\u001b[39;49m\u001b[43mmaximize_window\u001b[49m\u001b[43m(\u001b[49m\u001b[43m)\u001b[49m\n\u001b[0;32m      3\u001b[0m words \u001b[38;5;241m=\u001b[39m key\u001b[38;5;241m.\u001b[39msplit()\n\u001b[0;32m      4\u001b[0m txt \u001b[38;5;241m=\u001b[39m\u001b[38;5;124m'\u001b[39m\u001b[38;5;124m'\u001b[39m    \n",
      "File \u001b[1;32mc:\\Users\\varun\\AppData\\Local\\Programs\\Python\\Python312\\Lib\\site-packages\\selenium\\webdriver\\remote\\webdriver.py:622\u001b[0m, in \u001b[0;36mWebDriver.maximize_window\u001b[1;34m(self)\u001b[0m\n\u001b[0;32m    615\u001b[0m \u001b[38;5;250m\u001b[39m\u001b[38;5;124;03m\"\"\"Maximizes the current window that webdriver is using.\u001b[39;00m\n\u001b[0;32m    616\u001b[0m \n\u001b[0;32m    617\u001b[0m \u001b[38;5;124;03mExample:\u001b[39;00m\n\u001b[0;32m    618\u001b[0m \u001b[38;5;124;03m--------\u001b[39;00m\n\u001b[0;32m    619\u001b[0m \u001b[38;5;124;03m>>> driver.maximize_window()\u001b[39;00m\n\u001b[0;32m    620\u001b[0m \u001b[38;5;124;03m\"\"\"\u001b[39;00m\n\u001b[0;32m    621\u001b[0m command \u001b[38;5;241m=\u001b[39m Command\u001b[38;5;241m.\u001b[39mW3C_MAXIMIZE_WINDOW\n\u001b[1;32m--> 622\u001b[0m \u001b[38;5;28;43mself\u001b[39;49m\u001b[38;5;241;43m.\u001b[39;49m\u001b[43mexecute\u001b[49m\u001b[43m(\u001b[49m\u001b[43mcommand\u001b[49m\u001b[43m,\u001b[49m\u001b[43m \u001b[49m\u001b[38;5;28;43;01mNone\u001b[39;49;00m\u001b[43m)\u001b[49m\n",
      "File \u001b[1;32mc:\\Users\\varun\\AppData\\Local\\Programs\\Python\\Python312\\Lib\\site-packages\\selenium\\webdriver\\remote\\webdriver.py:429\u001b[0m, in \u001b[0;36mWebDriver.execute\u001b[1;34m(self, driver_command, params)\u001b[0m\n\u001b[0;32m    427\u001b[0m response \u001b[38;5;241m=\u001b[39m \u001b[38;5;28mself\u001b[39m\u001b[38;5;241m.\u001b[39mcommand_executor\u001b[38;5;241m.\u001b[39mexecute(driver_command, params)\n\u001b[0;32m    428\u001b[0m \u001b[38;5;28;01mif\u001b[39;00m response:\n\u001b[1;32m--> 429\u001b[0m     \u001b[38;5;28;43mself\u001b[39;49m\u001b[38;5;241;43m.\u001b[39;49m\u001b[43merror_handler\u001b[49m\u001b[38;5;241;43m.\u001b[39;49m\u001b[43mcheck_response\u001b[49m\u001b[43m(\u001b[49m\u001b[43mresponse\u001b[49m\u001b[43m)\u001b[49m\n\u001b[0;32m    430\u001b[0m     response[\u001b[38;5;124m\"\u001b[39m\u001b[38;5;124mvalue\u001b[39m\u001b[38;5;124m\"\u001b[39m] \u001b[38;5;241m=\u001b[39m \u001b[38;5;28mself\u001b[39m\u001b[38;5;241m.\u001b[39m_unwrap_value(response\u001b[38;5;241m.\u001b[39mget(\u001b[38;5;124m\"\u001b[39m\u001b[38;5;124mvalue\u001b[39m\u001b[38;5;124m\"\u001b[39m, \u001b[38;5;28;01mNone\u001b[39;00m))\n\u001b[0;32m    431\u001b[0m     \u001b[38;5;28;01mreturn\u001b[39;00m response\n",
      "File \u001b[1;32mc:\\Users\\varun\\AppData\\Local\\Programs\\Python\\Python312\\Lib\\site-packages\\selenium\\webdriver\\remote\\errorhandler.py:232\u001b[0m, in \u001b[0;36mErrorHandler.check_response\u001b[1;34m(self, response)\u001b[0m\n\u001b[0;32m    230\u001b[0m         alert_text \u001b[38;5;241m=\u001b[39m value[\u001b[38;5;124m\"\u001b[39m\u001b[38;5;124malert\u001b[39m\u001b[38;5;124m\"\u001b[39m]\u001b[38;5;241m.\u001b[39mget(\u001b[38;5;124m\"\u001b[39m\u001b[38;5;124mtext\u001b[39m\u001b[38;5;124m\"\u001b[39m)\n\u001b[0;32m    231\u001b[0m     \u001b[38;5;28;01mraise\u001b[39;00m exception_class(message, screen, stacktrace, alert_text)  \u001b[38;5;66;03m# type: ignore[call-arg]  # mypy is not smart enough here\u001b[39;00m\n\u001b[1;32m--> 232\u001b[0m \u001b[38;5;28;01mraise\u001b[39;00m exception_class(message, screen, stacktrace)\n",
      "\u001b[1;31mInvalidSessionIdException\u001b[0m: Message: invalid session id: session deleted as the browser has closed the connection\nfrom disconnected: not connected to DevTools\n  (Session info: chrome=135.0.7049.96)\nStacktrace:\n\tGetHandleVerifier [0x00007FF7B5445355+78597]\n\tGetHandleVerifier [0x00007FF7B54453B0+78688]\n\t(No symbol) [0x00007FF7B51F91AA]\n\t(No symbol) [0x00007FF7B51E4EF5]\n\t(No symbol) [0x00007FF7B5209F04]\n\t(No symbol) [0x00007FF7B527ED0F]\n\t(No symbol) [0x00007FF7B529EBB2]\n\t(No symbol) [0x00007FF7B5276EC3]\n\t(No symbol) [0x00007FF7B52403F8]\n\t(No symbol) [0x00007FF7B5241163]\n\tGetHandleVerifier [0x00007FF7B56EEF0D+2870973]\n\tGetHandleVerifier [0x00007FF7B56E96B8+2848360]\n\tGetHandleVerifier [0x00007FF7B5706993+2967875]\n\tGetHandleVerifier [0x00007FF7B546019A+188746]\n\tGetHandleVerifier [0x00007FF7B546847F+222255]\n\tGetHandleVerifier [0x00007FF7B544D2D4+111236]\n\tGetHandleVerifier [0x00007FF7B544D482+111666]\n\tGetHandleVerifier [0x00007FF7B54335A9+5465]\n\tBaseThreadInitThunk [0x00007FFE6605259D+29]\n\tRtlUserThreadStart [0x00007FFE6644AF38+40]\n"
     ]
    }
   ],
   "source": [
    "driver.wait = WebDriverWait(driver, 5)\n",
    "driver.maximize_window()\n",
    "words = key.split()\n",
    "txt =''    \n",
    "for w in words:\n",
    "        txt +=(w+'+')\n",
    "    #print (txt)\n",
    "driver.get(\"https://www.glassdoor.co.in/Job/jobs.htm?suggestCount=0&suggestChosen=true&clickSource=searchBtn&typedKeyword={}\"\n",
    "           \"&sc.keyword={}&locT=C&locId={}&jobType=fulltime&fromAge=1&radius=6&cityId=-1&minRating=0.0&industryId=-1\"\n",
    "           \"&sgocId=-1&companyId=-1&employerSizes=0&applicationType=0&remoteWorkType=0\".format(txt[:-1], txt[:-1], locid))"
   ]
  },
  {
   "cell_type": "code",
   "execution_count": null,
   "id": "52bec18d",
   "metadata": {},
   "outputs": [],
   "source": []
  }
 ],
 "metadata": {
  "kernelspec": {
   "display_name": "Python 3",
   "language": "python",
   "name": "python3"
  },
  "language_info": {
   "codemirror_mode": {
    "name": "ipython",
    "version": 3
   },
   "file_extension": ".py",
   "mimetype": "text/x-python",
   "name": "python",
   "nbconvert_exporter": "python",
   "pygments_lexer": "ipython3",
   "version": "3.12.3"
  }
 },
 "nbformat": 4,
 "nbformat_minor": 5
}
