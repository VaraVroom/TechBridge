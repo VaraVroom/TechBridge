{
  "nbformat": 4,
  "nbformat_minor": 0,
  "metadata": {
    "colab": {
      "provenance": []
    },
    "kernelspec": {
      "name": "python3",
      "display_name": "Python 3"
    },
    "language_info": {
      "name": "python"
    }
  },
  "cells": [
    {
      "cell_type": "code",
      "source": [
        "# !pip install PyPDF2\n",
        "# !pip install ftfy\n",
        "# !pip install pyresparser\n",
        "# !pip install python-docx\n"
      ],
      "metadata": {
        "colab": {
          "base_uri": "https://localhost:8080/"
        },
        "id": "p5j6e7Mu1Yhh",
        "outputId": "b0fcb862-c55b-4fa0-a92b-a5130fa6561d"
      },
      "execution_count": null,
      "outputs": [
        {
          "output_type": "stream",
          "name": "stdout",
          "text": [
            "Collecting python-docx\n",
            "  Downloading python_docx-1.1.2-py3-none-any.whl.metadata (2.0 kB)\n",
            "Requirement already satisfied: lxml>=3.1.0 in /usr/local/lib/python3.11/dist-packages (from python-docx) (5.3.2)\n",
            "Requirement already satisfied: typing-extensions>=4.9.0 in /usr/local/lib/python3.11/dist-packages (from python-docx) (4.13.2)\n",
            "Downloading python_docx-1.1.2-py3-none-any.whl (244 kB)\n",
            "\u001b[?25l   \u001b[90m━━━━━━━━━━━━━━━━━━━━━━━━━━━━━━━━━━━━━━━━\u001b[0m \u001b[32m0.0/244.3 kB\u001b[0m \u001b[31m?\u001b[0m eta \u001b[36m-:--:--\u001b[0m\r\u001b[2K   \u001b[91m━━━━━━━━━━━━━━━\u001b[0m\u001b[90m╺\u001b[0m\u001b[90m━━━━━━━━━━━━━━━━━━━━━━━━\u001b[0m \u001b[32m92.2/244.3 kB\u001b[0m \u001b[31m2.6 MB/s\u001b[0m eta \u001b[36m0:00:01\u001b[0m\r\u001b[2K   \u001b[90m━━━━━━━━━━━━━━━━━━━━━━━━━━━━━━━━━━━━━━━━\u001b[0m \u001b[32m244.3/244.3 kB\u001b[0m \u001b[31m4.0 MB/s\u001b[0m eta \u001b[36m0:00:00\u001b[0m\n",
            "\u001b[?25hInstalling collected packages: python-docx\n",
            "Successfully installed python-docx-1.1.2\n"
          ]
        }
      ]
    },
    {
      "cell_type": "code",
      "source": [
        "nltk.download('stopwords')"
      ],
      "metadata": {
        "colab": {
          "base_uri": "https://localhost:8080/"
        },
        "id": "26zhskai2dfj",
        "outputId": "e26155c8-80fb-4c92-999d-c0af5bb0e7d9"
      },
      "execution_count": null,
      "outputs": [
        {
          "output_type": "stream",
          "name": "stderr",
          "text": [
            "[nltk_data] Downloading package stopwords to /root/nltk_data...\n",
            "[nltk_data]   Unzipping corpora/stopwords.zip.\n"
          ]
        },
        {
          "output_type": "execute_result",
          "data": {
            "text/plain": [
              "True"
            ]
          },
          "metadata": {},
          "execution_count": 17
        }
      ]
    },
    {
      "cell_type": "code",
      "execution_count": null,
      "metadata": {
        "id": "CaiWMC8-0--c"
      },
      "outputs": [],
      "source": [
        "import spacy\n",
        "from spacy.matcher import Matcher\n",
        "import PyPDF2\n",
        "import os\n",
        "\n",
        "# Load the Spacy English model\n",
        "nlp = spacy.load('en_core_web_sm')\n",
        "import csv\n",
        "from spacy.matcher import Matcher\n",
        "import csv"
      ]
    },
    {
      "cell_type": "code",
      "source": [
        "file_path=r'skills.csv'\n",
        "with open(file_path, 'r') as file:\n",
        "    csv_reader = csv.reader(file)\n",
        "    skills = [row for row in csv_reader]"
      ],
      "metadata": {
        "id": "ycveqW6h1lA1"
      },
      "execution_count": null,
      "outputs": []
    },
    {
      "cell_type": "code",
      "source": [
        "skill_patterns = [[{'LOWER': skill}] for skill in skills[0]]"
      ],
      "metadata": {
        "id": "TnJekHmj1ygV"
      },
      "execution_count": null,
      "outputs": []
    },
    {
      "cell_type": "code",
      "source": [
        "matcher = Matcher(nlp.vocab)"
      ],
      "metadata": {
        "id": "lcLgr9yG12au"
      },
      "execution_count": null,
      "outputs": []
    },
    {
      "cell_type": "code",
      "source": [
        "for pattern in skill_patterns:\n",
        "    matcher.add('Skills', [pattern])"
      ],
      "metadata": {
        "id": "CNDbbmrv14tT"
      },
      "execution_count": null,
      "outputs": []
    },
    {
      "cell_type": "code",
      "source": [
        "def extract_skills(text):\n",
        "    doc = nlp(text)\n",
        "    matches = matcher(doc)\n",
        "    skills = set()\n",
        "    for match_id, start, end in matches:\n",
        "        skill = doc[start:end].text\n",
        "        skills.add(skill)\n",
        "    return skills"
      ],
      "metadata": {
        "id": "wXF2Ov2D19KT"
      },
      "execution_count": null,
      "outputs": []
    },
    {
      "cell_type": "code",
      "source": [
        "def extract_text_from_pdf(file_path:str):\n",
        "    with open(file_path, 'rb') as f:\n",
        "        pdf_reader = PyPDF2.PdfReader(f)\n",
        "        text = ''\n",
        "        for page in pdf_reader.pages:\n",
        "            text += page.extract_text()\n",
        "    return text"
      ],
      "metadata": {
        "id": "wU5g1fzR1_WI"
      },
      "execution_count": null,
      "outputs": []
    },
    {
      "cell_type": "code",
      "source": [
        "def skills_extractor(file_path):\n",
        "        # Extract text from PDF\n",
        "        # path=r'notebook'\n",
        "        # full_file_path = os.path.join(path, file_path)\n",
        "        resume_text = extract_text_from_pdf(file_path)\n",
        "\n",
        "        # Extract skills from resume text\n",
        "        skills = list(extract_skills(resume_text))\n",
        "        return skills"
      ],
      "metadata": {
        "id": "iuUrQJYc2BX4"
      },
      "execution_count": null,
      "outputs": []
    },
    {
      "cell_type": "code",
      "source": [
        "import re\n",
        "from ftfy import fix_text\n",
        "from sklearn.feature_extraction.text import TfidfVectorizer\n",
        "import re\n",
        "from sklearn.neighbors import NearestNeighbors\n",
        "import numpy as np\n",
        "import pandas as pd\n",
        "import nltk\n",
        "from nltk.corpus import stopwords\n",
        "stopw  = set(stopwords.words('english'))\n",
        "from pyresparser import ResumeParser\n",
        "import os\n",
        "from docx import Document"
      ],
      "metadata": {
        "id": "zjVTF1M02KOJ"
      },
      "execution_count": null,
      "outputs": []
    },
    {
      "cell_type": "code",
      "source": [
        "# Load dataset:\n",
        "jd_df=pd.read_csv(r'jd_structured_data.csv')\n",
        "\n",
        "# Load the extracted resume skills:\n",
        "file_path=r'CV.pdf'\n",
        "skills=[]\n",
        "skills.append(' '.join(word for word in skills_extractor(file_path)))"
      ],
      "metadata": {
        "id": "4ophev0I2SUP"
      },
      "execution_count": null,
      "outputs": []
    },
    {
      "cell_type": "code",
      "source": [
        "def ngrams(string, n=3):\n",
        "    string = fix_text(string) # fix text\n",
        "    string = string.encode(\"ascii\", errors=\"ignore\").decode() #remove non ascii chars\n",
        "    string = string.lower()\n",
        "    chars_to_remove = [\")\",\"(\",\".\",\"|\",\"[\",\"]\",\"{\",\"}\",\"'\"]\n",
        "    rx = '[' + re.escape(''.join(chars_to_remove)) + ']'\n",
        "    string = re.sub(rx, '', string)\n",
        "    string = string.replace('&', 'and')\n",
        "    string = string.replace(',', ' ')\n",
        "    string = string.replace('-', ' ')\n",
        "    string = string.title() # normalise case - capital at start of each word\n",
        "    string = re.sub(' +',' ',string).strip() # get rid of multiple spaces and replace with a single\n",
        "    string = ' '+ string +' ' # pad names for ngrams...\n",
        "    string = re.sub(r'[,-./]|\\sBD',r'', string)\n",
        "    ngrams = zip(*[string[i:] for i in range(n)])\n",
        "    return [''.join(ngram) for ngram in ngrams]"
      ],
      "metadata": {
        "id": "BDS60UnC3WXq"
      },
      "execution_count": null,
      "outputs": []
    },
    {
      "cell_type": "code",
      "source": [
        "vectorizer = TfidfVectorizer(min_df=1, analyzer=ngrams, lowercase=False)\n",
        "tfidf = vectorizer.fit_transform(skills)"
      ],
      "metadata": {
        "id": "-QYFiZYX3cK_"
      },
      "execution_count": null,
      "outputs": []
    },
    {
      "cell_type": "code",
      "source": [
        "nbrs = NearestNeighbors(n_neighbors=1, n_jobs=-1).fit(tfidf)\n",
        "jd_test = (jd_df['Processed_JD'].values.astype('U'))\n"
      ],
      "metadata": {
        "id": "SkSDxoIx3ecW"
      },
      "execution_count": null,
      "outputs": []
    },
    {
      "cell_type": "code",
      "source": [
        "def getNearestN(query):\n",
        "  queryTFIDF_ = vectorizer.transform(query)\n",
        "  distances, indices = nbrs.kneighbors(queryTFIDF_)\n",
        "  return distances, indices"
      ],
      "metadata": {
        "id": "DK3KBUx43gXW"
      },
      "execution_count": null,
      "outputs": []
    },
    {
      "cell_type": "code",
      "source": [
        "distances, indices = getNearestN(jd_test)\n",
        "test = list(jd_test)\n",
        "matches = []"
      ],
      "metadata": {
        "id": "mhS5FAFY3io6"
      },
      "execution_count": null,
      "outputs": []
    },
    {
      "cell_type": "code",
      "source": [
        "for i,j in enumerate(indices):\n",
        "    dist=round(distances[i][0],2)\n",
        "\n",
        "    temp = [dist]\n",
        "    matches.append(temp)"
      ],
      "metadata": {
        "id": "vPScLdAj3kv3"
      },
      "execution_count": null,
      "outputs": []
    },
    {
      "cell_type": "code",
      "source": [
        "matches = pd.DataFrame(matches, columns=['Match confidence'])"
      ],
      "metadata": {
        "id": "ySLQdwui3pVE"
      },
      "execution_count": null,
      "outputs": []
    },
    {
      "cell_type": "code",
      "source": [
        "jd_df['match']=matches['Match confidence']\n",
        "jd_df.head(5).sort_values('match')"
      ],
      "metadata": {
        "id": "aJjh-ChE3tgr",
        "outputId": "6d9dc72a-dee1-4f45-840c-74c09a1624e6",
        "colab": {
          "base_uri": "https://localhost:8080/",
          "height": 538
        }
      },
      "execution_count": null,
      "outputs": [
        {
          "output_type": "execute_result",
          "data": {
            "text/plain": [
              "                   Job Title  Rating                           Company Name  \\\n",
              "4             Data Scientist     2.9                     Affinity Solutions   \n",
              "0             Data Scientist     3.8                      Tecolote Research   \n",
              "2             Data Scientist     4.8                                KnowBe4   \n",
              "3             Data Scientist     3.8                                   PNNL   \n",
              "1  Healthcare Data Scientist     3.4  University of Maryland Medical System   \n",
              "\n",
              "          Location    Headquarters     Size  Founded   Type of ownership  \\\n",
              "4     New York, NY    New York, NY    125.5     1998   Company - Private   \n",
              "0  Albuquerque, NM      Goleta, CA    750.5     1973   Company - Private   \n",
              "2   Clearwater, FL  Clearwater, FL    750.5     2010   Company - Private   \n",
              "3     Richland, WA    Richland, WA   3000.5     1965          Government   \n",
              "1    Linthicum, MD   Baltimore, MD  10000.0     1984  Other Organization   \n",
              "\n",
              "                           Industry                        Sector  \\\n",
              "4           Advertising & Marketing             Business Services   \n",
              "0               Aerospace & Defense           Aerospace & Defense   \n",
              "2                 Security Services             Business Services   \n",
              "3                            Energy  Oil, Gas, Energy & Utilities   \n",
              "1  Health Care Services & Hospitals                   Health Care   \n",
              "\n",
              "                                         Competitors  Average Salary  \\\n",
              "4               Commerce Signals, Cardlytics, Yodlee           114.5   \n",
              "0                                                 -1            72.0   \n",
              "2                                                 -1            85.0   \n",
              "3  Oak Ridge National Laboratory, National Renewa...            76.5   \n",
              "1                                                 -1            87.5   \n",
              "\n",
              "   Average Revenue                                       Processed_JD  match  \n",
              "4     24319.000761  Data Scientist Affinity Solutions Marketing Cl...   0.71  \n",
              "0        75.000000  Data Scientist Location: Albuquerque, Educatio...   0.73  \n",
              "2       300.000000  KnowBe4, Inc. high growth information security...   0.79  \n",
              "3    250500.000000  *Organization Job ID** Job ID: 310709 Director...   0.80  \n",
              "1      3500.000000  What You Will Do: General Summary The Healthca...   0.86  "
            ],
            "text/html": [
              "\n",
              "  <div id=\"df-212b1249-2a74-422c-ae3f-0cbfd085e8aa\" class=\"colab-df-container\">\n",
              "    <div>\n",
              "<style scoped>\n",
              "    .dataframe tbody tr th:only-of-type {\n",
              "        vertical-align: middle;\n",
              "    }\n",
              "\n",
              "    .dataframe tbody tr th {\n",
              "        vertical-align: top;\n",
              "    }\n",
              "\n",
              "    .dataframe thead th {\n",
              "        text-align: right;\n",
              "    }\n",
              "</style>\n",
              "<table border=\"1\" class=\"dataframe\">\n",
              "  <thead>\n",
              "    <tr style=\"text-align: right;\">\n",
              "      <th></th>\n",
              "      <th>Job Title</th>\n",
              "      <th>Rating</th>\n",
              "      <th>Company Name</th>\n",
              "      <th>Location</th>\n",
              "      <th>Headquarters</th>\n",
              "      <th>Size</th>\n",
              "      <th>Founded</th>\n",
              "      <th>Type of ownership</th>\n",
              "      <th>Industry</th>\n",
              "      <th>Sector</th>\n",
              "      <th>Competitors</th>\n",
              "      <th>Average Salary</th>\n",
              "      <th>Average Revenue</th>\n",
              "      <th>Processed_JD</th>\n",
              "      <th>match</th>\n",
              "    </tr>\n",
              "  </thead>\n",
              "  <tbody>\n",
              "    <tr>\n",
              "      <th>4</th>\n",
              "      <td>Data Scientist</td>\n",
              "      <td>2.9</td>\n",
              "      <td>Affinity Solutions</td>\n",
              "      <td>New York, NY</td>\n",
              "      <td>New York, NY</td>\n",
              "      <td>125.5</td>\n",
              "      <td>1998</td>\n",
              "      <td>Company - Private</td>\n",
              "      <td>Advertising &amp; Marketing</td>\n",
              "      <td>Business Services</td>\n",
              "      <td>Commerce Signals, Cardlytics, Yodlee</td>\n",
              "      <td>114.5</td>\n",
              "      <td>24319.000761</td>\n",
              "      <td>Data Scientist Affinity Solutions Marketing Cl...</td>\n",
              "      <td>0.71</td>\n",
              "    </tr>\n",
              "    <tr>\n",
              "      <th>0</th>\n",
              "      <td>Data Scientist</td>\n",
              "      <td>3.8</td>\n",
              "      <td>Tecolote Research</td>\n",
              "      <td>Albuquerque, NM</td>\n",
              "      <td>Goleta, CA</td>\n",
              "      <td>750.5</td>\n",
              "      <td>1973</td>\n",
              "      <td>Company - Private</td>\n",
              "      <td>Aerospace &amp; Defense</td>\n",
              "      <td>Aerospace &amp; Defense</td>\n",
              "      <td>-1</td>\n",
              "      <td>72.0</td>\n",
              "      <td>75.000000</td>\n",
              "      <td>Data Scientist Location: Albuquerque, Educatio...</td>\n",
              "      <td>0.73</td>\n",
              "    </tr>\n",
              "    <tr>\n",
              "      <th>2</th>\n",
              "      <td>Data Scientist</td>\n",
              "      <td>4.8</td>\n",
              "      <td>KnowBe4</td>\n",
              "      <td>Clearwater, FL</td>\n",
              "      <td>Clearwater, FL</td>\n",
              "      <td>750.5</td>\n",
              "      <td>2010</td>\n",
              "      <td>Company - Private</td>\n",
              "      <td>Security Services</td>\n",
              "      <td>Business Services</td>\n",
              "      <td>-1</td>\n",
              "      <td>85.0</td>\n",
              "      <td>300.000000</td>\n",
              "      <td>KnowBe4, Inc. high growth information security...</td>\n",
              "      <td>0.79</td>\n",
              "    </tr>\n",
              "    <tr>\n",
              "      <th>3</th>\n",
              "      <td>Data Scientist</td>\n",
              "      <td>3.8</td>\n",
              "      <td>PNNL</td>\n",
              "      <td>Richland, WA</td>\n",
              "      <td>Richland, WA</td>\n",
              "      <td>3000.5</td>\n",
              "      <td>1965</td>\n",
              "      <td>Government</td>\n",
              "      <td>Energy</td>\n",
              "      <td>Oil, Gas, Energy &amp; Utilities</td>\n",
              "      <td>Oak Ridge National Laboratory, National Renewa...</td>\n",
              "      <td>76.5</td>\n",
              "      <td>250500.000000</td>\n",
              "      <td>*Organization Job ID** Job ID: 310709 Director...</td>\n",
              "      <td>0.80</td>\n",
              "    </tr>\n",
              "    <tr>\n",
              "      <th>1</th>\n",
              "      <td>Healthcare Data Scientist</td>\n",
              "      <td>3.4</td>\n",
              "      <td>University of Maryland Medical System</td>\n",
              "      <td>Linthicum, MD</td>\n",
              "      <td>Baltimore, MD</td>\n",
              "      <td>10000.0</td>\n",
              "      <td>1984</td>\n",
              "      <td>Other Organization</td>\n",
              "      <td>Health Care Services &amp; Hospitals</td>\n",
              "      <td>Health Care</td>\n",
              "      <td>-1</td>\n",
              "      <td>87.5</td>\n",
              "      <td>3500.000000</td>\n",
              "      <td>What You Will Do: General Summary The Healthca...</td>\n",
              "      <td>0.86</td>\n",
              "    </tr>\n",
              "  </tbody>\n",
              "</table>\n",
              "</div>\n",
              "    <div class=\"colab-df-buttons\">\n",
              "\n",
              "  <div class=\"colab-df-container\">\n",
              "    <button class=\"colab-df-convert\" onclick=\"convertToInteractive('df-212b1249-2a74-422c-ae3f-0cbfd085e8aa')\"\n",
              "            title=\"Convert this dataframe to an interactive table.\"\n",
              "            style=\"display:none;\">\n",
              "\n",
              "  <svg xmlns=\"http://www.w3.org/2000/svg\" height=\"24px\" viewBox=\"0 -960 960 960\">\n",
              "    <path d=\"M120-120v-720h720v720H120Zm60-500h600v-160H180v160Zm220 220h160v-160H400v160Zm0 220h160v-160H400v160ZM180-400h160v-160H180v160Zm440 0h160v-160H620v160ZM180-180h160v-160H180v160Zm440 0h160v-160H620v160Z\"/>\n",
              "  </svg>\n",
              "    </button>\n",
              "\n",
              "  <style>\n",
              "    .colab-df-container {\n",
              "      display:flex;\n",
              "      gap: 12px;\n",
              "    }\n",
              "\n",
              "    .colab-df-convert {\n",
              "      background-color: #E8F0FE;\n",
              "      border: none;\n",
              "      border-radius: 50%;\n",
              "      cursor: pointer;\n",
              "      display: none;\n",
              "      fill: #1967D2;\n",
              "      height: 32px;\n",
              "      padding: 0 0 0 0;\n",
              "      width: 32px;\n",
              "    }\n",
              "\n",
              "    .colab-df-convert:hover {\n",
              "      background-color: #E2EBFA;\n",
              "      box-shadow: 0px 1px 2px rgba(60, 64, 67, 0.3), 0px 1px 3px 1px rgba(60, 64, 67, 0.15);\n",
              "      fill: #174EA6;\n",
              "    }\n",
              "\n",
              "    .colab-df-buttons div {\n",
              "      margin-bottom: 4px;\n",
              "    }\n",
              "\n",
              "    [theme=dark] .colab-df-convert {\n",
              "      background-color: #3B4455;\n",
              "      fill: #D2E3FC;\n",
              "    }\n",
              "\n",
              "    [theme=dark] .colab-df-convert:hover {\n",
              "      background-color: #434B5C;\n",
              "      box-shadow: 0px 1px 3px 1px rgba(0, 0, 0, 0.15);\n",
              "      filter: drop-shadow(0px 1px 2px rgba(0, 0, 0, 0.3));\n",
              "      fill: #FFFFFF;\n",
              "    }\n",
              "  </style>\n",
              "\n",
              "    <script>\n",
              "      const buttonEl =\n",
              "        document.querySelector('#df-212b1249-2a74-422c-ae3f-0cbfd085e8aa button.colab-df-convert');\n",
              "      buttonEl.style.display =\n",
              "        google.colab.kernel.accessAllowed ? 'block' : 'none';\n",
              "\n",
              "      async function convertToInteractive(key) {\n",
              "        const element = document.querySelector('#df-212b1249-2a74-422c-ae3f-0cbfd085e8aa');\n",
              "        const dataTable =\n",
              "          await google.colab.kernel.invokeFunction('convertToInteractive',\n",
              "                                                    [key], {});\n",
              "        if (!dataTable) return;\n",
              "\n",
              "        const docLinkHtml = 'Like what you see? Visit the ' +\n",
              "          '<a target=\"_blank\" href=https://colab.research.google.com/notebooks/data_table.ipynb>data table notebook</a>'\n",
              "          + ' to learn more about interactive tables.';\n",
              "        element.innerHTML = '';\n",
              "        dataTable['output_type'] = 'display_data';\n",
              "        await google.colab.output.renderOutput(dataTable, element);\n",
              "        const docLink = document.createElement('div');\n",
              "        docLink.innerHTML = docLinkHtml;\n",
              "        element.appendChild(docLink);\n",
              "      }\n",
              "    </script>\n",
              "  </div>\n",
              "\n",
              "\n",
              "<div id=\"df-8f4627c9-0832-4a02-bf71-2ea2e5a301a4\">\n",
              "  <button class=\"colab-df-quickchart\" onclick=\"quickchart('df-8f4627c9-0832-4a02-bf71-2ea2e5a301a4')\"\n",
              "            title=\"Suggest charts\"\n",
              "            style=\"display:none;\">\n",
              "\n",
              "<svg xmlns=\"http://www.w3.org/2000/svg\" height=\"24px\"viewBox=\"0 0 24 24\"\n",
              "     width=\"24px\">\n",
              "    <g>\n",
              "        <path d=\"M19 3H5c-1.1 0-2 .9-2 2v14c0 1.1.9 2 2 2h14c1.1 0 2-.9 2-2V5c0-1.1-.9-2-2-2zM9 17H7v-7h2v7zm4 0h-2V7h2v10zm4 0h-2v-4h2v4z\"/>\n",
              "    </g>\n",
              "</svg>\n",
              "  </button>\n",
              "\n",
              "<style>\n",
              "  .colab-df-quickchart {\n",
              "      --bg-color: #E8F0FE;\n",
              "      --fill-color: #1967D2;\n",
              "      --hover-bg-color: #E2EBFA;\n",
              "      --hover-fill-color: #174EA6;\n",
              "      --disabled-fill-color: #AAA;\n",
              "      --disabled-bg-color: #DDD;\n",
              "  }\n",
              "\n",
              "  [theme=dark] .colab-df-quickchart {\n",
              "      --bg-color: #3B4455;\n",
              "      --fill-color: #D2E3FC;\n",
              "      --hover-bg-color: #434B5C;\n",
              "      --hover-fill-color: #FFFFFF;\n",
              "      --disabled-bg-color: #3B4455;\n",
              "      --disabled-fill-color: #666;\n",
              "  }\n",
              "\n",
              "  .colab-df-quickchart {\n",
              "    background-color: var(--bg-color);\n",
              "    border: none;\n",
              "    border-radius: 50%;\n",
              "    cursor: pointer;\n",
              "    display: none;\n",
              "    fill: var(--fill-color);\n",
              "    height: 32px;\n",
              "    padding: 0;\n",
              "    width: 32px;\n",
              "  }\n",
              "\n",
              "  .colab-df-quickchart:hover {\n",
              "    background-color: var(--hover-bg-color);\n",
              "    box-shadow: 0 1px 2px rgba(60, 64, 67, 0.3), 0 1px 3px 1px rgba(60, 64, 67, 0.15);\n",
              "    fill: var(--button-hover-fill-color);\n",
              "  }\n",
              "\n",
              "  .colab-df-quickchart-complete:disabled,\n",
              "  .colab-df-quickchart-complete:disabled:hover {\n",
              "    background-color: var(--disabled-bg-color);\n",
              "    fill: var(--disabled-fill-color);\n",
              "    box-shadow: none;\n",
              "  }\n",
              "\n",
              "  .colab-df-spinner {\n",
              "    border: 2px solid var(--fill-color);\n",
              "    border-color: transparent;\n",
              "    border-bottom-color: var(--fill-color);\n",
              "    animation:\n",
              "      spin 1s steps(1) infinite;\n",
              "  }\n",
              "\n",
              "  @keyframes spin {\n",
              "    0% {\n",
              "      border-color: transparent;\n",
              "      border-bottom-color: var(--fill-color);\n",
              "      border-left-color: var(--fill-color);\n",
              "    }\n",
              "    20% {\n",
              "      border-color: transparent;\n",
              "      border-left-color: var(--fill-color);\n",
              "      border-top-color: var(--fill-color);\n",
              "    }\n",
              "    30% {\n",
              "      border-color: transparent;\n",
              "      border-left-color: var(--fill-color);\n",
              "      border-top-color: var(--fill-color);\n",
              "      border-right-color: var(--fill-color);\n",
              "    }\n",
              "    40% {\n",
              "      border-color: transparent;\n",
              "      border-right-color: var(--fill-color);\n",
              "      border-top-color: var(--fill-color);\n",
              "    }\n",
              "    60% {\n",
              "      border-color: transparent;\n",
              "      border-right-color: var(--fill-color);\n",
              "    }\n",
              "    80% {\n",
              "      border-color: transparent;\n",
              "      border-right-color: var(--fill-color);\n",
              "      border-bottom-color: var(--fill-color);\n",
              "    }\n",
              "    90% {\n",
              "      border-color: transparent;\n",
              "      border-bottom-color: var(--fill-color);\n",
              "    }\n",
              "  }\n",
              "</style>\n",
              "\n",
              "  <script>\n",
              "    async function quickchart(key) {\n",
              "      const quickchartButtonEl =\n",
              "        document.querySelector('#' + key + ' button');\n",
              "      quickchartButtonEl.disabled = true;  // To prevent multiple clicks.\n",
              "      quickchartButtonEl.classList.add('colab-df-spinner');\n",
              "      try {\n",
              "        const charts = await google.colab.kernel.invokeFunction(\n",
              "            'suggestCharts', [key], {});\n",
              "      } catch (error) {\n",
              "        console.error('Error during call to suggestCharts:', error);\n",
              "      }\n",
              "      quickchartButtonEl.classList.remove('colab-df-spinner');\n",
              "      quickchartButtonEl.classList.add('colab-df-quickchart-complete');\n",
              "    }\n",
              "    (() => {\n",
              "      let quickchartButtonEl =\n",
              "        document.querySelector('#df-8f4627c9-0832-4a02-bf71-2ea2e5a301a4 button');\n",
              "      quickchartButtonEl.style.display =\n",
              "        google.colab.kernel.accessAllowed ? 'block' : 'none';\n",
              "    })();\n",
              "  </script>\n",
              "</div>\n",
              "\n",
              "    </div>\n",
              "  </div>\n"
            ],
            "application/vnd.google.colaboratory.intrinsic+json": {
              "type": "dataframe",
              "variable_name": "jd_df",
              "summary": "{\n  \"name\": \"jd_df\",\n  \"rows\": 956,\n  \"fields\": [\n    {\n      \"column\": \"Job Title\",\n      \"properties\": {\n        \"dtype\": \"category\",\n        \"num_unique_values\": 328,\n        \"samples\": [\n          \"Sr. Microsoft Data Engineer\",\n          \"Principal Scientist, Chemistry & Immunology\",\n          \"Systems Engineer II - Data Analyst\"\n        ],\n        \"semantic_type\": \"\",\n        \"description\": \"\"\n      }\n    },\n    {\n      \"column\": \"Rating\",\n      \"properties\": {\n        \"dtype\": \"number\",\n        \"std\": 1.0676188182455826,\n        \"min\": -1.0,\n        \"max\": 5.0,\n        \"num_unique_values\": 32,\n        \"samples\": [\n          2.4,\n          4.7,\n          1.9\n        ],\n        \"semantic_type\": \"\",\n        \"description\": \"\"\n      }\n    },\n    {\n      \"column\": \"Company Name\",\n      \"properties\": {\n        \"dtype\": \"category\",\n        \"num_unique_values\": 448,\n        \"samples\": [\n          \"MathWorks\",\n          \"Kronos Bio\",\n          \"DrFirst\"\n        ],\n        \"semantic_type\": \"\",\n        \"description\": \"\"\n      }\n    },\n    {\n      \"column\": \"Location\",\n      \"properties\": {\n        \"dtype\": \"category\",\n        \"num_unique_values\": 237,\n        \"samples\": [\n          \"Winter Park, FL\",\n          \"San Francisco, CA\",\n          \"Aliso Viejo, CA\"\n        ],\n        \"semantic_type\": \"\",\n        \"description\": \"\"\n      }\n    },\n    {\n      \"column\": \"Headquarters\",\n      \"properties\": {\n        \"dtype\": \"category\",\n        \"num_unique_values\": 235,\n        \"samples\": [\n          \"Silver Spring, MD\",\n          \"Brentford, United Kingdom\",\n          \"Farmington Hills, MI\"\n        ],\n        \"semantic_type\": \"\",\n        \"description\": \"\"\n      }\n    },\n    {\n      \"column\": \"Size\",\n      \"properties\": {\n        \"dtype\": \"number\",\n        \"std\": 3677.6885653609665,\n        \"min\": -1.0,\n        \"max\": 10000.0,\n        \"num_unique_values\": 9,\n        \"samples\": [\n          3027.393198724761,\n          10000.0,\n          7500.5\n        ],\n        \"semantic_type\": \"\",\n        \"description\": \"\"\n      }\n    },\n    {\n      \"column\": \"Founded\",\n      \"properties\": {\n        \"dtype\": \"number\",\n        \"std\": 598,\n        \"min\": -1,\n        \"max\": 2019,\n        \"num_unique_values\": 109,\n        \"samples\": [\n          1930,\n          2011,\n          1998\n        ],\n        \"semantic_type\": \"\",\n        \"description\": \"\"\n      }\n    },\n    {\n      \"column\": \"Type of ownership\",\n      \"properties\": {\n        \"dtype\": \"category\",\n        \"num_unique_values\": 13,\n        \"samples\": [\n          \"-1\",\n          \"College / University\",\n          \"Company - Private\"\n        ],\n        \"semantic_type\": \"\",\n        \"description\": \"\"\n      }\n    },\n    {\n      \"column\": \"Industry\",\n      \"properties\": {\n        \"dtype\": \"category\",\n        \"num_unique_values\": 63,\n        \"samples\": [\n          \"Consumer Product Rental\",\n          \"Publishing\",\n          \"Aerospace & Defense\"\n        ],\n        \"semantic_type\": \"\",\n        \"description\": \"\"\n      }\n    },\n    {\n      \"column\": \"Sector\",\n      \"properties\": {\n        \"dtype\": \"category\",\n        \"num_unique_values\": 25,\n        \"samples\": [\n          \"Biotech & Pharmaceuticals\",\n          \"Government\",\n          \"Aerospace & Defense\"\n        ],\n        \"semantic_type\": \"\",\n        \"description\": \"\"\n      }\n    },\n    {\n      \"column\": \"Competitors\",\n      \"properties\": {\n        \"dtype\": \"category\",\n        \"num_unique_values\": 149,\n        \"samples\": [\n          \"Mercer, Korn Ferry, Integrated Healthcare Strategies\",\n          \"Travelers, Allstate, State Farm\",\n          \"EmblemHealth, UnitedHealth Group, Aetna\"\n        ],\n        \"semantic_type\": \"\",\n        \"description\": \"\"\n      }\n    },\n    {\n      \"column\": \"Average Salary\",\n      \"properties\": {\n        \"dtype\": \"number\",\n        \"std\": 31.971932129035356,\n        \"min\": 15.5,\n        \"max\": 254.0,\n        \"num_unique_values\": 217,\n        \"samples\": [\n          133.5,\n          53.0,\n          93.0\n        ],\n        \"semantic_type\": \"\",\n        \"description\": \"\"\n      }\n    },\n    {\n      \"column\": \"Average Revenue\",\n      \"properties\": {\n        \"dtype\": \"number\",\n        \"std\": 60571.30857020129,\n        \"min\": 1.0,\n        \"max\": 250500.0,\n        \"num_unique_values\": 13,\n        \"samples\": [\n          1.0,\n          17.5,\n          75.0\n        ],\n        \"semantic_type\": \"\",\n        \"description\": \"\"\n      }\n    },\n    {\n      \"column\": \"Processed_JD\",\n      \"properties\": {\n        \"dtype\": \"string\",\n        \"num_unique_values\": 596,\n        \"samples\": [\n          \"Responsible high level granular measurement public private variable marketing programs. Provide 1:1 program insights regard campaign offer performance efficiency, audience segmentation performance, ROI drive future strategy Provide Omni-channel performance metrics. Consult modeling team insure past program performance informs future audience modeling efforts. Assist program business case development. Produce quarterly reporting campaign results well additional hoc requests. Oversee team members work needed. Multi-task across various programs activities simultaneously Must have: Subject Matter Expertise 1:1 marketing program measurement Knowledge SQL, Alteryx, Microsoft Office preferred. Familiarity A/B testing experimental design (i.e., treated/control groups) also helpful. Past experience analyzing marketing campaign results (e.g., incremental sales, net profit, ROI) Ability query, join, manipulate data (e.g., create new variables needed) Experience meeting clients directly understand business needs discuss findings Ability create PowerPoints containing graphs insights findings Customer profiling experience Ability present findings client team meetings Additional Job Description Highly proficient utilizing SQL Alteryx, tableau, Qlik, etc. manipulate, arrange, query present data Experience complex problem solving data manipulation, data quality, data modeling,statistical analysis and/or reporting Excellent interpersonal skills people management organizational levels Ability respond effective timely manner Subject matter expert analytics specialty Statistics, Mathematics, Econometrics computer science Min 5-year experiences analytics team lead manager OneMagnify Equal Opportunity Employer.\",\n          \"Position Purpose Senior Data Engineer Echo Global Logistics team, contribute database management large scale web-based applications use SQL, C#, .NET tools. These technologies enable Echo's business supporting architectural vision quality, scalability, performance function. Our proprietary software created goal simplify transportation customers carriers, one largest competitive advantages ever growing market. Echo Global Logistics recently ranked third largest digital company employee size Chicago continuing see increased growth virtually technical teams. Additionally, ranked Inbound Logistics 3PL 2017 look forward speaking team! Essential Position Functions You... See technology passion, something 9-5 Possess ability create new solutions; operate web based platform constantly facing unchartered waters Possess strong fundamentals within coding technologies willingness wear several hats called upon wait something break; find problem becomes one constantly aiming improve Having willingness vocalize ideas pick get knocked We\\u2026 Value passionate technologists, go-getters, people never stop seeking ways improve existing technology Have high focus career development runway get Work hard, period Offer competitive compensation, benefits, 401k, challenging projects, company wide events, coworkers leaders push get better, sense community found anywhere else Responsibilities: Data Engineer's work conjunction Software Engineers, DBA's, Business Analysts, Quality Assurance business owners Serve member data team solves complex challenges builds working database solutions using SQL Server, T-SQL, SSIS, stored procedures, views, user-defined functions, table functions Develop solutions contributing development, leveraging Object-Oriented programming techniques (.Net), Software Development Lifecycles, Unit Test Techniques, Debugging/Analytical Techniques. Collaborate team develop database structures fit overall architecture systems development. Code, install, optimize, debug database queries stored procedures using appropriate tools editors. Perform code reviews provide feedback timely manner. Promote collective code ownership everyone visibility feature codebase. Present technical ideas concepts business-friendly language. Provide recommendations, analysis, evaluation systems improvements, optimization, development, maintenance efforts, including capacity planning. Identify correct performance bottlenecks related SQL code. Support timely production releases adherence release activities. Contribute data retention strategy. Position Requirements 1-3 years commercial-grade business applications environment leveraging following: SQL Server, T-SQL, SSIS, stored procedures, user-defined functions table functions Managing design risk 1-3 years leveraging programming techniques Software development lifecycles, Unit test techniques, debugging/analytical techniques What's you? Help career growth joining industry leader continuing advance Echo web based technologies Working organization defined market goals, products, customers, revenue, development teams Experienced mentors learn adopt new practices Ability introduce views takes product offerings Work wide variety data management Ability constantly enhance improve applications Have clearly defined career growth track enough flexibility pave way All qualified applicants receive consideration employment without regard age, race, color, religion, sex, sexual orientation, gender identity, national origin, status qualified individual disability, Vietnam era protected veteran.\",\n          \"PeoplesBank largest mutually chartered bank Western Massachusetts leader green values, sustainable energy financing, charitable giving. Come join team dedicated individuals want contribute dynamic, successful organization. Data Scientist Schedule:Monday Wednesday Friday8:30am-4:30pm, Thursday 8:30am-5:00pm Responsibilities: \\u00b7Analyze, interpret visualize complex datacreating conceptual, logical physical data models determine appropriate method represent data business consumption \\u00b7Lead analytic projects track overall performance assigned projects including conversion rates retargeting; recommend process procedure improvements result analytics. \\u00b7Manage Marketing platform working closely marketing team identify opportunities implement campaigns Marketing team. \\u00b7Manage hoc analyses supportbank wide initiatives \\u00b7Direct perform variety advanced analyses including data mining research; provide recommendations based key findings. \\u00b7Work Data Liaisons manage improveexisting customer data points identify customer demand trends drive strategy. Create dashboards provide demand tracking bank wide KPI\\u2019s metrics. Evaluate data determine recommend next steps based information. \\u00b7Manage large& complex analytical projects, data exploration, model building& testing. \\u00b7Work cross-functionally multiple internal teams developing strong working relationships hands-on mentality. \\u00b7Explore new data sources, analytical techniques industry trends ensure ongoing competitive advantage. \\u00b7Measure report performance bank promotions assess goals; Identify trends insights make recommendations optimize performance based insights. \\u00b7Manage, develop build models lead better business insights recommendations. Understand customer patterns behavior provide insight customer experience, customer retention, customer acquisition utilization strategies. Provide recommendations based analysis. \\u00b7Create new manage existing folders, reports, dashboards, agents data management system ensure timely accurate data reporting use bank managers decision purposes. \\u00b7Completes yearly compliance training testing complies bank, federal, state regulations.Adheres departmental bank-wide service standards. \\u00b7Adheres departmental bank-wide service standards. Complies Bank Policies Procedures The Data Scientist involved articulating data-driven solutions inform decision making, developing methods processes implementation targeting. The Data Scientist expected deep understanding analytical methodologies order complete unstructured assignments little supervision. The Data Scientist impact identifying customer behavior targeting analysis. The Data Scientist provides insight variety bank wide initiatives based data analysis front end back end. The position also expected take data proactively provide recommendations next steps utilizing data. Inaccurate reporting data provided Senior Management could result misinformed decision making significantly impacting financial operational performance bank. Failure adequately safeguard customer information could result negative regulatory sanctions. Education and/or Experience: Generally requires Master\\u2019s degree, preferably, business administration, finance, data/information sciences plus five ten years relevant experience equivalent combination education experience. Computer Skills: Proficient Microsoft Office Suite. Proficient database management, report writing software (such Oracle Business Intelligence) SQL. General knowledge computer applications banking core processing systems. Possesses understanding areas application programming, database system design. Understands legacy web-based systems interface other. Other skills knowledge Bring strong background proven experience digital analytics, measurement, modeling, data quality. Solid Analytical/statistical skills. Ability think deeply statistical issues well business marketing implications. Passion self-educate keep up-to-date latest Analytics trends marketing, banking fields. Excellent attention detail, data accuracy, quality output. Proactively seeks opportunities serve leadership roles serving role model. Time Management:Strong time management skills, proficiency prioritizing, scheduling managing multiple project schedules different levels criticality.\"\n        ],\n        \"semantic_type\": \"\",\n        \"description\": \"\"\n      }\n    },\n    {\n      \"column\": \"match\",\n      \"properties\": {\n        \"dtype\": \"number\",\n        \"std\": 0.07420975380245365,\n        \"min\": 0.66,\n        \"max\": 1.16,\n        \"num_unique_values\": 42,\n        \"samples\": [\n          0.66,\n          0.76,\n          0.78\n        ],\n        \"semantic_type\": \"\",\n        \"description\": \"\"\n      }\n    }\n  ]\n}"
            }
          },
          "metadata": {},
          "execution_count": 36
        }
      ]
    },
    {
      "cell_type": "code",
      "source": [],
      "metadata": {
        "id": "61gqBogm3vft"
      },
      "execution_count": null,
      "outputs": []
    }
  ]
}